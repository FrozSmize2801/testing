{
 "cells": [
  {
   "cell_type": "markdown",
   "id": "d978f1f9-cfdc-47f0-a480-eb012369ea28",
   "metadata": {},
   "source": [
    "# Data Science Tools and Ecosystem"
   ]
  },
  {
   "cell_type": "markdown",
   "id": "5cc4620f-1d50-431a-97b5-c8cfcd3af8a5",
   "metadata": {},
   "source": [
    "In this notebook, Data Science Tools and Ecosystem are summarized."
   ]
  },
  {
   "cell_type": "markdown",
   "id": "20ed903b-5246-4be7-b743-ebec887aaaa9",
   "metadata": {},
   "source": [
    "**Objectives:**\n",
    "- List popular languages for Data Science\n",
    "- List libraries used by Data Scientists\n",
    "- List arithmetic expressions in Python"
   ]
  },
  {
   "cell_type": "markdown",
   "id": "5b0e1ac0-7bcd-4505-9d99-8ee90fec7a48",
   "metadata": {},
   "source": [
    "Some of the popular languages that Data Scientists use are:\n",
    "1. Python\n",
    "2. R\n",
    "3. SQL"
   ]
  },
  {
   "cell_type": "markdown",
   "id": "aeb2b5c0-733a-4412-b94f-5dd2479b4971",
   "metadata": {},
   "source": [
    "Some of the commonly used libraries used by Data Scientists include:\n",
    "1. Pandas\n",
    "2. NumPy\n",
    "3. ggplot2\n",
    "4. caret"
   ]
  },
  {
   "cell_type": "markdown",
   "id": "4e0ab7e2-e8d0-419f-a62d-3154c1df58e0",
   "metadata": {},
   "source": [
    "|Data Science Tools|\n",
    "|-----|\n",
    "|Jupyter Notebook|\n",
    "|RStudio|\n",
    "|GitHub|"
   ]
  },
  {
   "cell_type": "markdown",
   "id": "61aed7be-fb84-44b2-8e58-02349ccdaca9",
   "metadata": {},
   "source": [
    "### Below are a few examples of evaluating arithmetic expressions in Python"
   ]
  },
  {
   "cell_type": "code",
   "execution_count": 11,
   "id": "c5b9a78c-2b66-4243-a7b0-ecf85f37d206",
   "metadata": {},
   "outputs": [
    {
     "data": {
      "text/plain": [
       "17"
      ]
     },
     "execution_count": 11,
     "metadata": {},
     "output_type": "execute_result"
    }
   ],
   "source": [
    "# This is a simple arithmetic expression to mutiply then add integers.\n",
    "(3*4)+5"
   ]
  },
  {
   "cell_type": "code",
   "execution_count": 13,
   "id": "80e6e852-397c-4cc3-98d0-739f25398797",
   "metadata": {},
   "outputs": [
    {
     "name": "stdout",
     "output_type": "stream",
     "text": [
      "3.3333333333333335\n"
     ]
    }
   ],
   "source": [
    "# This will convert 200 minutes to hours by diving by 60\n",
    "hour=200/60\n",
    "print(hour)"
   ]
  },
  {
   "cell_type": "markdown",
   "id": "d580bc80-f556-4f7d-b847-433e9818635e",
   "metadata": {},
   "source": [
    "## Author\n",
    "Do Minh Duc"
   ]
  },
  {
   "cell_type": "code",
   "execution_count": null,
   "id": "b7a87ef7-295d-4750-83da-0ce740f9f9a5",
   "metadata": {},
   "outputs": [],
   "source": []
  }
 ],
 "metadata": {
  "kernelspec": {
   "display_name": "Python 3 (ipykernel)",
   "language": "python",
   "name": "python3"
  },
  "language_info": {
   "codemirror_mode": {
    "name": "ipython",
    "version": 3
   },
   "file_extension": ".py",
   "mimetype": "text/x-python",
   "name": "python",
   "nbconvert_exporter": "python",
   "pygments_lexer": "ipython3",
   "version": "3.12.4"
  }
 },
 "nbformat": 4,
 "nbformat_minor": 5
}
